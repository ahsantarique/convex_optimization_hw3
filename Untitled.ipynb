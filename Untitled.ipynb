{
 "cells": [
  {
   "cell_type": "code",
   "execution_count": 1,
   "metadata": {},
   "outputs": [],
   "source": [
    "import numpy as np\n",
    "\n",
    "m = 500; n = 5000; k = 5; sigma = 1e-2\n",
    "\n",
    "# Training set\n",
    "A_train = np.random.randn(m,n)\n",
    "index = np.random.choice(n, k)\n",
    "x = np.zeros((n,1), dtype=np.float); x[index] = 1.0\n",
    "b_train = np.matmul(A_train, x) + sigma * np.random.randn(m,1)\n",
    "\n",
    "# Test set\n",
    "A_test = np.random.randn(100,n)\n",
    "b_test = np.matmul(A_test, x)"
   ]
  },
  {
   "cell_type": "code",
   "execution_count": null,
   "metadata": {},
   "outputs": [],
   "source": []
  }
 ],
 "metadata": {
  "kernelspec": {
   "display_name": "Python 3",
   "language": "python",
   "name": "python3"
  },
  "language_info": {
   "codemirror_mode": {
    "name": "ipython",
    "version": 3
   },
   "file_extension": ".py",
   "mimetype": "text/x-python",
   "name": "python",
   "nbconvert_exporter": "python",
   "pygments_lexer": "ipython3",
   "version": "3.7.3"
  }
 },
 "nbformat": 4,
 "nbformat_minor": 4
}
